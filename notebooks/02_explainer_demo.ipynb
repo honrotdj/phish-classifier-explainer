{
 "cells": [
  {
   "cell_type": "markdown",
   "id": "500cc3c5",
   "metadata": {},
   "source": [
    "# 02: Explainer demo\n",
    "Paste a sample email in the `sample_email` string and run the cell to see cues."
   ]
  },
  {
   "cell_type": "code",
   "execution_count": 1,
   "id": "30e17f3a-f22d-4b12-bc6e-fe03f26ce063",
   "metadata": {},
   "outputs": [
    {
     "data": {
      "text/plain": [
       "{'cues': ['Urgency language', 'Credentials requested', 'Contains 1 link(s)'],\n",
       " 'urls': ['https://secure-login.yourbank.verify.example.com']}"
      ]
     },
     "execution_count": 1,
     "metadata": {},
     "output_type": "execute_result"
    }
   ],
   "source": [
    "import sys, os\n",
    "sys.path.append(os.path.abspath(\"..\"))  # make sure src is visible\n",
    "\n",
    "from src.explain import explain\n",
    "\n",
    "sample_email = '''Subject: Verify your account immediately\n",
    "Dear user,\n",
    "Your account will be suspended unless you verify your password now at https://secure-login.yourbank.verify.example.com\n",
    "Regards,\n",
    "Support Team'''\n",
    "\n",
    "explain(sample_email)"
   ]
  },
  {
   "cell_type": "code",
   "execution_count": 2,
   "id": "7c928b6b-17ee-493d-9bbe-7b0368213c06",
   "metadata": {},
   "outputs": [
    {
     "data": {
      "text/plain": [
       "{'cues': [], 'urls': []}"
      ]
     },
     "execution_count": 2,
     "metadata": {},
     "output_type": "execute_result"
    }
   ],
   "source": [
    "sample_email = \"\"\"Subject: Team meeting\n",
    "Agenda attached. See you at 3pm.\"\"\"\n",
    "explain(sample_email)\n"
   ]
  },
  {
   "cell_type": "code",
   "execution_count": null,
   "id": "70516de7-8df8-43b1-97ca-57fde613904b",
   "metadata": {},
   "outputs": [],
   "source": []
  }
 ],
 "metadata": {
  "kernelspec": {
   "display_name": "Python 3 (ipykernel)",
   "language": "python",
   "name": "python3"
  },
  "language_info": {
   "codemirror_mode": {
    "name": "ipython",
    "version": 3
   },
   "file_extension": ".py",
   "mimetype": "text/x-python",
   "name": "python",
   "nbconvert_exporter": "python",
   "pygments_lexer": "ipython3",
   "version": "3.10.10"
  }
 },
 "nbformat": 4,
 "nbformat_minor": 5
}
